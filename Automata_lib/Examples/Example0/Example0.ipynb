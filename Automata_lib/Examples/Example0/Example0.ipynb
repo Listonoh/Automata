{
 "cells": [
  {
   "cell_type": "code",
   "execution_count": 3,
   "metadata": {},
   "outputs": [],
   "source": [
    "from Automata_lib import Automaton, OutputMode\n",
    "import re, json\n",
    "from graphviz import Digraph"
   ]
  },
  {
   "cell_type": "code",
   "execution_count": 4,
   "metadata": {},
   "outputs": [],
   "source": [
    "a = Automaton(\"/root/src/bakalarka/Automata/Automata_lib/Examples/non_mon.txt\")"
   ]
  },
  {
   "cell_type": "code",
   "execution_count": 51,
   "metadata": {},
   "outputs": [],
   "source": [
    "a = Automaton(\"/root/src/bakalarka/Automata/Automata_lib/Examples/mono.txt\")"
   ]
  },
  {
   "cell_type": "code",
   "execution_count": 40,
   "metadata": {},
   "outputs": [],
   "source": [
    "a = Automaton(\"/root/src/bakalarka/Automata/Automata_lib/Examples/example0_without_MVL.txt\")"
   ]
  },
  {
   "cell_type": "markdown",
   "metadata": {},
   "source": [
    "``` python\n",
    "def monotonic():\n",
    "    all_rewrite_states\n",
    "    all_states\n",
    "    for state in all_states:\n",
    "        if any(succesor in all_rewrite_states for succesor in succesors_of_rewite_after_k_MVR_steps()):\n",
    "            return False\n",
    "    for state in all_rewrite_states:\n",
    "        for rewrite in rewrites[state]\n",
    "            if any(word in is_accesible_from_initial_state(all_rewrite_states) for word in generate_word_from_prefix(rewite))\n",
    "                return False\n",
    "    return True\n",
    "```"
   ]
  },
  {
   "cell_type": "markdown",
   "metadata": {},
   "source": [
    "zkotrolovat 2 rewrites za sebou"
   ]
  },
  {
   "cell_type": "code",
   "execution_count": 49,
   "metadata": {},
   "outputs": [],
   "source": [
    "def is_monotonic(a: Automaton):\n",
    "    digrhaph, rewrites = to_digraph(a)\n",
    "    print(digrhaph)\n",
    "    print(rewrites)\n",
    "    to_check= []\n",
    "    for i in rewrites.keys():\n",
    "        to_check.append(i)\n",
    "    \n",
    "    #check if nondeterministic could skipp rewrite and rewrite later\n",
    "    reversed_digraph = defaultdict(list)\n",
    "    for key in digrhaph.keys():\n",
    "        for item in digrhaph[key]:\n",
    "            reversed_digraph[item].append(key) \n",
    "            reversed_digraph[key] \n",
    "\n",
    "    used = {key: False for key in digrhaph.keys()}\n",
    "    for state in to_check:\n",
    "        st = [state]\n",
    "        distance = {i:0 if i == state else -1 for i in reversed_digraph.keys()}\n",
    "        while st:\n",
    "            current = st.pop(0)\n",
    "            if distance[current] >= a.size_of_window and current in rewrites.keys():\n",
    "                return False\n",
    "            for next_state in reversed_digraph[current]:\n",
    "                if distance[current] == float(\"inf\"):\n",
    "                    if not distance[next_state] == float(\"inf\"):\n",
    "                        distance[next_state] = float(\"inf\")\n",
    "                    else:\n",
    "                        continue # don't loop in infinity\n",
    "                if distance[next_state] == -1:\n",
    "                    distance[next_state] = distance[current] + 1\n",
    "                else:\n",
    "                    distance[next_state] = float(\"inf\")\n",
    "                st.append(next_state)\n",
    "\n",
    "                \n",
    "    # while to_compute:\n",
    "    #     current = to_compute.pop(0)\n",
    "    #     for state in reversed_digraph[current]:\n",
    "    #         if distance[state] == -1:\n",
    "    #             distance[state] = distance[current] + 1\n",
    "    #             to_compute.append(state)\n",
    "\n",
    "    # for state in digrhaph.keys():\n",
    "    #     if state in rewrites.keys():\n",
    "    #         difference = digrhaph[state] - rewrites[state][\"to_state\"]\n",
    "    #         for state in difference:\n",
    "    #             find_rewrite_after_n_steps(digrhaph, rewrites, diff, a.size_of_window)\n",
    "\n",
    "    #checking if in next run there could be rewrite in k-1-(|word|-|new_word|)\n",
    "    states_accesible_from_initial_without_rewrite = []\n",
    "    to_check_without_states = [i[2:] for i in to_check]\n",
    "    for i in to_check:\n",
    "        for rewrite in rewrites[i]:\n",
    "            rewrite = rewrite[\"rewriten_to\"]\n",
    "            # print(rewrite)\n",
    "            for possible_bad_state in generate_pre_complete_word(a,rewrite): #k-1 \n",
    "                if str(possible_bad_state) in to_check_without_states:\n",
    "                    print(possible_bad_state, rewrite)\n",
    "                    return False\n",
    "    return True"
   ]
  },
  {
   "cell_type": "code",
   "execution_count": 52,
   "metadata": {},
   "outputs": [
    {
     "name": "stdout",
     "output_type": "stream",
     "text": [
      "defaultdict(<class 'list'>, {'Initial': [\"q0['#', 'd', '$']\", \"q0['#', 'e', '$']\", \"q0['#', 'a', 'a', 'c']\", \"q0['#', 'a', 'c', 'b']\", \"q0['#', 'a', 'a', 'a']\"], \"q0['#', 'd', '$']\": ['Accept'], \"q0['#', 'e', '$']\": ['Accept'], \"q0['#', 'a', 'a', 'a']\": [\"q0['a', 'a', 'a', 'a']\", \"q0['a', 'a', 'a', 'c']\"], \"q0['#', 'a', 'a', 'c']\": [\"q0['a', 'a', 'c', 'b']\"], \"q0['#', 'a', 'c', 'b']\": [\"qe['b', 'c', 'b', 'c']\", \"qe['e', '$']\", \"qe['b', 'c', 'b', 'e']\", \"qe['c', 'b', 'c', 'b']\"], \"q0['a', 'a', 'a', 'a']\": [\"q0['a', 'a', 'a', 'a']\", \"q0['a', 'a', 'a', 'c']\"], \"q0['a', 'a', 'a', 'c']\": [\"q0['a', 'a', 'c', 'b']\"], \"q0['a', 'a', 'c', 'b']\": [\"qe['b', 'c', 'b', 'c']\", \"qe['e', '$']\", \"qe['b', 'c', 'b', 'e']\", \"qe['c', 'b', 'c', 'b']\", \"qd['c', 'b', 'c', 'b']\", \"qd['b', 'c', 'b', 'c']\", \"qd['b', 'c', 'b', 'd']\", \"qd['d', '$']\"], \"qe['c', 'b', 'c', 'b']\": [\"qe['b', 'c', 'b', 'c']\", \"qe['b', 'c', 'b', 'e']\"], \"qe['b', 'c', 'b', 'c']\": [\"qe['c', 'b', 'c', 'b']\"], \"qe['b', 'c', 'b', 'e']\": ['Restart'], \"qe['e', '$']\": ['Restart'], \"qd['c', 'b', 'c', 'b']\": [\"qd['b', 'c', 'b', 'c']\", \"qd['b', 'c', 'b', 'd']\"], \"qd['b', 'c', 'b', 'c']\": [\"qd['c', 'b', 'c', 'b']\"], \"qd['b', 'c', 'b', 'd']\": ['Restart'], \"qd['d', '$']\": ['Restart']})\n",
      "defaultdict(<class 'list'>, {\"q0['#', 'a', 'c', 'b']\": [{'rewriten_to': ['#'], 'to_state': \"qe['b', 'c', 'b', 'c']\"}, {'rewriten_to': ['#'], 'to_state': \"qe['e', '$']\"}, {'rewriten_to': ['#'], 'to_state': \"qe['b', 'c', 'b', 'e']\"}, {'rewriten_to': ['#'], 'to_state': \"qe['c', 'b', 'c', 'b']\"}], \"q0['a', 'a', 'c', 'b']\": [{'rewriten_to': [], 'to_state': \"qe['b', 'c', 'b', 'c']\"}, {'rewriten_to': [], 'to_state': \"qe['e', '$']\"}, {'rewriten_to': [], 'to_state': \"qe['b', 'c', 'b', 'e']\"}, {'rewriten_to': [], 'to_state': \"qe['c', 'b', 'c', 'b']\"}, {'rewriten_to': ['a'], 'to_state': \"qd['c', 'b', 'c', 'b']\"}, {'rewriten_to': ['a'], 'to_state': \"qd['b', 'c', 'b', 'c']\"}, {'rewriten_to': ['a'], 'to_state': \"qd['b', 'c', 'b', 'd']\"}, {'rewriten_to': ['a'], 'to_state': \"qd['d', '$']\"}]})\n"
     ]
    },
    {
     "data": {
      "text/plain": [
       "True"
      ]
     },
     "execution_count": 52,
     "metadata": {},
     "output_type": "execute_result"
    }
   ],
   "source": [
    "is_monotonic(a)"
   ]
  },
  {
   "cell_type": "code",
   "execution_count": 19,
   "metadata": {},
   "outputs": [],
   "source": [
    "from itertools import permutations\n",
    "def generate_pre_complete_word(a:Automaton, content: list):\n",
    "    ret = []\n",
    "    final_lenth = a.size_of_window\n",
    "    for i in range(1,len(content)):\n",
    "        sufix = content[:i]\n",
    "        symbols_needed = final_lenth - len(sufix) - 1\n",
    "        perm = permutations(a.working_alphabet + a.alphabet, symbols_needed)\n",
    "        for p in perm:\n",
    "            for prefix in a.working_alphabet + a.alphabet + [\"#\"]:\n",
    "                yield [prefix] + list(p) + sufix"
   ]
  },
  {
   "cell_type": "code",
   "execution_count": null,
   "metadata": {},
   "outputs": [],
   "source": [
    "for i in generate_pre_complete_word(a, [\"a\", \"b\"]):\n",
    "    print(i)"
   ]
  },
  {
   "cell_type": "code",
   "execution_count": 24,
   "metadata": {},
   "outputs": [],
   "source": [
    "#TODO should be done with generator to ensure space complexity\n",
    "def generate_post_complete_word(a:Automaton, new_lenght:int, content: list):\n",
    "    ret = []\n",
    "    l = a.alphabet + a.working_alphabet +[\"$\"]\n",
    "    if new_lenght < len(content):\n",
    "        return []\n",
    "    if content and (content[-1] == \"$\" or new_lenght == len(content)):\n",
    "        return [content]\n",
    "    for i in l:\n",
    "        new_word = content.copy()\n",
    "        new_word += i\n",
    "        ret.extend(generate_post_complete_word(a,new_lenght,new_word))\n",
    "    return ret\n",
    "\n",
    "    "
   ]
  },
  {
   "cell_type": "code",
   "execution_count": 18,
   "metadata": {},
   "outputs": [],
   "source": [
    "from collections import defaultdict\n",
    "def to_digraph(a: Automaton):\n",
    "    possible_states = set([\"Accept\", \"Restart\"])\n",
    "    for key in a.instructions.keys():\n",
    "        for window in a.instructions[key]:\n",
    "            possible_states.add(key + window) #beware of star\n",
    "    # possible_states = {key + window for key in a.instructions.keys() for window in a.instructions[key]}\n",
    "    # print(possible_states)\n",
    "    possible_states = list(possible_states)\n",
    "    digraph = defaultdict(list)\n",
    "    rewrites = defaultdict(list)\n",
    "    for state in possible_states:\n",
    "        if \"#\" in state:\n",
    "            digraph[\"Initial\"].append(state)\n",
    "    for key in a.instructions.keys():\n",
    "        for window in a.instructions[key]:\n",
    "            for instruction in a.instructions[key][window]:\n",
    "                if type(instruction) is str:\n",
    "                    digraph[key+window].append(instruction)\n",
    "                elif type(instruction) is list and len(instruction) == 2:\n",
    "                    to_state = instruction[0]\n",
    "                    instruction = instruction[1]\n",
    "                    if instruction == \"MVR\": \n",
    "                        for c in a.alphabet + a.working_alphabet + [\"$\"]:\n",
    "                            new_window = str(eval(window)[1:] + [c])\n",
    "                            if to_state+new_window in possible_states + [to_state+\"['*']\"]:\n",
    "                                digraph[key+window].append(to_state+new_window)\n",
    "                    elif instruction == \"MVL\":\n",
    "                        # nahradit jednosmernym automatem\n",
    "                        print(\"TODO MVL\")\n",
    "                    elif re.match(r\"^\\[.*\\]$\", instruction):\n",
    "                        # rewrite_to = [a.strip() for a in instruction[1:-1].split(\",\")]\n",
    "                        rewrite_to = eval(instruction)  # making array from string\n",
    "                        # if to_state+\"['*']\" in possible_states:\n",
    "                        #     tt = to_state+\"['*']\"\n",
    "                        #     rewrites[key+window].append({\"rewriten_to\":rewrite_to,\"to_state\": tt})\n",
    "                        #     digraph[key+window].append(tt)\n",
    "                        if rewrite_to and rewrite_to[-1] == \"$\":\n",
    "                            if to_state+\"['$']\" in possible_states: \n",
    "                                digraph[key+window].append(to_state+\"['$']\")\n",
    "                                rewrites[key+window].append({\"rewriten_to\":rewrite_to,\"to_state\": to_state+\"[]\"})\n",
    "                        else:\n",
    "                            for possible_window in possible_states: #get rid all that couldnt be after ie those with #\n",
    "                                if \"#\" not in possible_window and to_state == possible_window.split(\"[\")[0]:\n",
    "                                    digraph[key+window].append(possible_window)\n",
    "                                    rewrites[key+window].append({\"rewriten_to\":rewrite_to, \"to_state\":possible_window})\n",
    "    # dot.render('test-output/round-table.gv', view=True)\n",
    "    dot = Digraph()\n",
    "    for from_state in digraph.keys():\n",
    "        for to_state in digraph[from_state]:\n",
    "            dot.edge(from_state, to_state)\n",
    "    dot.render(f'test-output/{a.name}.gv', view=True)  # doctest: +SKIP\n",
    "    return digraph,rewrites"
   ]
  },
  {
   "cell_type": "code",
   "execution_count": null,
   "metadata": {},
   "outputs": [],
   "source": []
  },
  {
   "cell_type": "code",
   "execution_count": null,
   "metadata": {},
   "outputs": [],
   "source": [
    "generate_post_complete_word(a,3,[\"b\"])"
   ]
  },
  {
   "cell_type": "code",
   "execution_count": null,
   "metadata": {},
   "outputs": [],
   "source": []
  },
  {
   "cell_type": "code",
   "execution_count": 19,
   "metadata": {},
   "outputs": [
    {
     "data": {
      "text/plain": [
       "(defaultdict(list,\n",
       "             {'Initial': [\"q0['#', 'a', 'c']\",\n",
       "               \"q0['#', '$']\",\n",
       "               \"q0['#', 'a', 'a']\",\n",
       "               \"q0['#', 'a', 'D']\"],\n",
       "              \"q0['#', '$']\": ['Accept'],\n",
       "              \"q0['a', 'a', 'a']\": [\"q0['a', 'a', 'a']\",\n",
       "               \"q0['a', 'a', 'c']\",\n",
       "               \"q0['a', 'a', 'E']\",\n",
       "               \"q0['a', 'a', 'D']\"],\n",
       "              \"q0['a', 'a', 'c']\": [\"q0['a', 'c', 'b']\"],\n",
       "              \"q0['a', 'c', 'b']\": [\"q0['c', 'b', 'c']\",\n",
       "               \"q0['c', 'b', 'd']\",\n",
       "               \"q0['c', 'b', 'e']\",\n",
       "               \"q0['c', 'b', 'E']\",\n",
       "               \"q0['c', 'b', 'D']\"],\n",
       "              \"q0['c', 'b', 'c']\": [\"q0['b', 'c', 'b']\"],\n",
       "              \"q0['b', 'c', 'b']\": [\"q0['c', 'b', 'c']\",\n",
       "               \"q0['c', 'b', 'd']\",\n",
       "               \"q0['c', 'b', 'e']\",\n",
       "               \"q0['c', 'b', 'E']\",\n",
       "               \"q0['c', 'b', 'D']\"],\n",
       "              \"q0['#', 'a', 'c']\": [\"q0['a', 'c', 'b']\"],\n",
       "              \"q0['#', 'a', 'a']\": [\"q0['a', 'a', 'a']\",\n",
       "               \"q0['a', 'a', 'c']\",\n",
       "               \"q0['a', 'a', 'E']\",\n",
       "               \"q0['a', 'a', 'D']\"],\n",
       "              \"q0['c', 'b', 'e']\": [\"qr['*']\"],\n",
       "              \"q0['c', 'b', 'E']\": [\"qr['*']\"],\n",
       "              \"q0['a', 'a', 'E']\": [\"qr['*']\"],\n",
       "              \"q0['c', 'b', 'd']\": [\"qr['*']\"],\n",
       "              \"q0['c', 'b', 'D']\": [\"qr['*']\"],\n",
       "              \"q0['a', 'a', 'D']\": [\"qr['*']\"],\n",
       "              \"q0['#', 'a', 'D']\": [\"qr['*']\"],\n",
       "              \"qr['*']\": ['Restart']}),\n",
       " defaultdict(list,\n",
       "             {\"q0['c', 'b', 'e']\": [{'rewriten_to': ['E'],\n",
       "                'to_state': \"qr['*']\"}],\n",
       "              \"q0['c', 'b', 'E']\": [{'rewriten_to': ['E', 'E'],\n",
       "                'to_state': \"qr['*']\"}],\n",
       "              \"q0['a', 'a', 'E']\": [{'rewriten_to': [],\n",
       "                'to_state': \"qr['*']\"}],\n",
       "              \"q0['c', 'b', 'd']\": [{'rewriten_to': ['D'],\n",
       "                'to_state': \"qr['*']\"}],\n",
       "              \"q0['c', 'b', 'D']\": [{'rewriten_to': ['D', 'D'],\n",
       "                'to_state': \"qr['*']\"}],\n",
       "              \"q0['a', 'a', 'D']\": [{'rewriten_to': ['a'],\n",
       "                'to_state': \"qr['*']\"}],\n",
       "              \"q0['#', 'a', 'D']\": [{'rewriten_to': ['#'],\n",
       "                'to_state': \"qr['*']\"}]}))"
      ]
     },
     "execution_count": 19,
     "metadata": {},
     "output_type": "execute_result"
    }
   ],
   "source": [
    "to_digraph(a)"
   ]
  },
  {
   "cell_type": "code",
   "execution_count": 17,
   "metadata": {},
   "outputs": [
    {
     "data": {
      "text/plain": [
       "{'q0': {\"['a', 'a', 'a']\": [['q0', 'MVR']],\n",
       "  \"['a', 'a', 'b']\": [['q0', 'MVR']],\n",
       "  \"['a', 'b', 'b']\": [['q0', 'MVR']],\n",
       "  \"['a', 'b', 'c']\": [['q0', 'MVR']],\n",
       "  \"['b', 'b', 'b']\": [['q0', 'MVR']],\n",
       "  \"['b', 'b', 'c']\": [['q0', 'MVR'], ['qr', \"['C', 'c']\"]],\n",
       "  \"['#', 'c', '$']\": ['Accept'],\n",
       "  \"['#', 'd', '$']\": ['Accept'],\n",
       "  \"['#', 'a', 'b']\": [['q0', 'MVR']],\n",
       "  \"['#', 'a', 'a']\": [['q0', 'MVR']],\n",
       "  \"['b', 'b', 'd']\": [['qr', \"['D', 'd']\"]],\n",
       "  \"['b', 'b', 'D']\": [['qr', \"['D', 'D']\"]],\n",
       "  \"['b', 'b', 'C']\": [['qr', \"['C', 'C']\"]],\n",
       "  \"['a', 'b', 'C']\": [['qr', \"['C']\"]],\n",
       "  \"['a', 'a', 'C']\": [['qr', '[]']],\n",
       "  \"['#', 'a', 'C']\": [['qr', \"['#']\"]],\n",
       "  \"['a', 'a', 'D']\": [['qr', \"['a']\"]],\n",
       "  \"['#', 'a', 'D']\": [['qr', \"['#']\"]]},\n",
       " 'qr': {\"['*']\": ['Restart']}}"
      ]
     },
     "execution_count": 17,
     "metadata": {},
     "output_type": "execute_result"
    }
   ],
   "source": [
    "a.instructions"
   ]
  },
  {
   "cell_type": "code",
   "execution_count": null,
   "metadata": {},
   "outputs": [],
   "source": [
    "def can_restart_with_window(state, window):\n",
    "    pass"
   ]
  },
  {
   "cell_type": "code",
   "execution_count": 55,
   "metadata": {},
   "outputs": [],
   "source": [
    "def can_restart(state):\n",
    "    s = [state]\n",
    "    visited = [state]\n",
    "    possible_states = []\n",
    "    while s:\n",
    "        cur_state = s.pop()\n",
    "        for window in a.instructions[cur_state]:\n",
    "            for right_side in a.instructions[cur_state][window]:\n",
    "                if right_side == \"Accept\": continue\n",
    "                if right_side == \"Restart\":\n",
    "                    return True\n",
    "                if right_side[0] not in visited:\n",
    "                    possible_states.append(right_side[0])\n",
    "                    visited.append(right_side[0])\n",
    "                    s.append(right_side[0])\n",
    "    return False"
   ]
  },
  {
   "cell_type": "code",
   "execution_count": 56,
   "metadata": {},
   "outputs": [
    {
     "data": {
      "text/plain": [
       "True"
      ]
     },
     "execution_count": 56,
     "metadata": {},
     "output_type": "execute_result"
    }
   ],
   "source": [
    "# a.instructions\n",
    "can_restart(\"q0\")"
   ]
  },
  {
   "cell_type": "code",
   "execution_count": 5,
   "metadata": {},
   "outputs": [
    {
     "name": "stdout",
     "output_type": "stream",
     "text": [
      "['#', 'a', 'a', 'b', 'b', 'c', '$']\n"
     ]
    },
    {
     "data": {
      "text/plain": [
       "False"
      ]
     },
     "execution_count": 5,
     "metadata": {},
     "output_type": "execute_result"
    }
   ],
   "source": [
    "a.evaluate(\"#aabbc$\")"
   ]
  },
  {
   "cell_type": "code",
   "execution_count": 15,
   "metadata": {},
   "outputs": [
    {
     "data": {
      "text/plain": [
       "{'q0': {\"['a', 'a', 'a']\": [['q0', 'MVR']],\n",
       "  \"['a', 'a', 'b']\": [['q0', 'MVR']],\n",
       "  \"['a', 'b', 'b']\": [['q0', 'MVR']],\n",
       "  \"['a', 'b', 'c']\": [['q0', 'MVR']],\n",
       "  \"['b', 'b', 'b']\": [['q0', 'MVR']],\n",
       "  \"['b', 'b', 'c']\": [['q0', 'MVR']],\n",
       "  \"['b', 'b', 'd']\": [['q0', 'MVR']],\n",
       "  \"['#', 'c', '$']\": ['Accept'],\n",
       "  \"['#', 'd', '$']\": ['Accept'],\n",
       "  \"['#', 'a', 'b']\": [['q0', 'MVR']],\n",
       "  \"['#', 'a', 'a']\": [['q0', 'MVR']],\n",
       "  \"['b', 'c', '$']\": [['qc', 'MVL']],\n",
       "  \"['b', 'd', '$']\": [['qd', 'MVL']]},\n",
       " 'qr': {\"['*']\": ['Restart']},\n",
       " 'qc': {\"['a', 'b', 'c']\": [['qr', \"['c']\"]],\n",
       "  \"['b', 'b', 'c']\": [['qc', 'MVL']],\n",
       "  \"['b', 'b', 'b']\": [['qc', 'MVL']],\n",
       "  \"['a', 'b', 'b']\": [['qr', \"['b']\"]]},\n",
       " 'qd': {\"['b', 'b', 'd']\": [['qd', 'MVL']],\n",
       "  \"['b', 'b', 'b']\": [['qd', 'MVL']],\n",
       "  \"['a', 'b', 'b']\": [['qr', '[]']]}}"
      ]
     },
     "execution_count": 15,
     "metadata": {},
     "output_type": "execute_result"
    }
   ],
   "source": [
    "a.instructions"
   ]
  },
  {
   "cell_type": "code",
   "execution_count": 14,
   "metadata": {},
   "outputs": [],
   "source": [
    "a.starting_position = 0\n",
    "a.size_of_window = 3\n",
    "a.initial_state = \"q0\"\n",
    "a.add_to_alphabet(\"a\", \"b\", \"c\", \"d\")\n",
    "\n",
    "for i in [\"aaa\", \"aab\", \"abb\", \"abc\", \"bbb\", \"bbc\", \"bbd\"]:\n",
    "    a.add_instr(\"q0\", i, \"q0\", \"MVR\")\n",
    "\n",
    "a.add_one_instr(\"q0\", \"#c$\", \"Accept\")\n",
    "a.add_one_instr(\"q0\", \"#d$\", \"Accept\")\n",
    "\n",
    "a.add_instr(\"q0\", \"#ab\", \"q0\", \"MVR\")\n",
    "a.add_instr(\"q0\", \"#aa\", \"q0\", \"MVR\")\n",
    "a.add_instr(\"q0\", \"bc$\", \"qc\", \"MVL\")\n",
    "a.add_instr(\"q0\", \"bd$\", \"qd\", \"MVL\")\n",
    "\n",
    "a.add_one_instr(\"qr\", \"*\", \"Restart\")\n",
    "\n",
    "a.add_instr(\"qc\", \"abc\", \"qr\", \"c\")\n",
    "a.add_instr(\"qc\", \"bbc\", \"qc\", \"MVL\")\n",
    "a.add_instr(\"qc\", \"bbb\", \"qc\", \"MVL\")\n",
    "a.add_instr(\"qc\", \"abb\", \"qr\", \"b\")\n",
    "a.add_instr(\"qd\", \"bbd\", \"qd\", \"MVL\")\n",
    "a.add_instr(\"qd\", \"bbb\", \"qd\", \"MVL\")\n",
    "a.add_instr(\"qd\", \"abb\", \"qr\", \"[]\")"
   ]
  },
  {
   "cell_type": "code",
   "execution_count": 16,
   "metadata": {},
   "outputs": [
    {
     "name": "stdout",
     "output_type": "stream",
     "text": [
      "[['q0', 'MVR']]\n",
      "[['q0', 'MVR']]\n",
      "[['q0', 'MVR']]\n",
      "[['q0', 'MVR']]\n",
      "[['q0', 'MVR']]\n",
      "[['q0', 'MVR']]\n",
      "[['q0', 'MVR']]\n",
      "['Accept']\n",
      "['Accept']\n",
      "[['q0', 'MVR']]\n",
      "[['q0', 'MVR']]\n",
      "[['qc', 'MVL']]\n",
      "[['qd', 'MVL']]\n",
      "['Restart']\n",
      "[['qr', \"['c']\"]]\n",
      "[['qc', 'MVL']]\n",
      "[['qc', 'MVL']]\n",
      "[['qr', \"['b']\"]]\n",
      "[['qd', 'MVL']]\n",
      "[['qd', 'MVL']]\n",
      "[['qr', '[]']]\n"
     ]
    }
   ],
   "source": [
    "for i in a.instructions.keys():\n",
    "    for w in a.instructions[i]:\n",
    "        print(a.instructions[i][w])"
   ]
  },
  {
   "cell_type": "code",
   "execution_count": 17,
   "metadata": {},
   "outputs": [
    {
     "name": "stdout",
     "output_type": "stream",
     "text": [
      "['#', 'a', 'a', 'a', 'b', 'b', 'b', 'c', '$']\n",
      "remaining tuples = []\n",
      "number of copies of text = 4\n",
      "(#, a, a), a, b, b, b, c, $ | state: q0\n",
      "#, (a, a, a), b, b, b, c, $ | state: q0\n",
      "#, a, (a, a, b), b, b, c, $ | state: q0\n",
      "#, a, a, (a, b, b), b, c, $ | state: q0\n",
      "#, a, a, a, (b, b, b), c, $ | state: q0\n",
      "#, a, a, a, b, (b, b, c), $ | state: q0\n",
      "#, a, a, a, b, b, (b, c, $) | state: q0\n",
      "#, a, a, a, b, (b, b, c), $ | state: qc\n",
      "#, a, a, a, (b, b, b), c, $ | state: qc\n",
      "#, a, a, (a, b, b), b, c, $ | state: qc\n",
      "#, a, a, (b, b, c), $ | state: qr | ['a', 'b', 'b'] --> ['b']\n",
      "(#, a, a), b, b, c, $ | state: q0\n",
      "#, (a, a, b), b, c, $ | state: q0\n",
      "#, a, (a, b, b), c, $ | state: q0\n",
      "#, a, a, (b, b, c), $ | state: q0\n",
      "#, a, a, b, (b, c, $) | state: q0\n",
      "#, a, a, (b, b, c), $ | state: qc\n",
      "#, a, (a, b, b), c, $ | state: qc\n",
      "#, a, (b, c, $) | state: qr | ['a', 'b', 'b'] --> ['b']\n",
      "(#, a, b), c, $ | state: q0\n",
      "#, (a, b, c), $ | state: q0\n",
      "#, a, (b, c, $) | state: q0\n",
      "#, (a, b, c), $ | state: qc\n",
      "#, (c, $) | state: qr | ['a', 'b', 'c'] --> ['c']\n",
      "(#, c, $) | state: q0\n"
     ]
    },
    {
     "data": {
      "text/plain": [
       "True"
      ]
     },
     "execution_count": 17,
     "metadata": {},
     "output_type": "execute_result"
    }
   ],
   "source": [
    "a.evaluate(\"#aaabbbc$\")"
   ]
  },
  {
   "cell_type": "code",
   "execution_count": 5,
   "metadata": {},
   "outputs": [
    {
     "data": {
      "text/plain": [
       "{'q0': {\"['a', 'a', 'a']\": [['q0', 'MVR']],\n",
       "  \"['a', 'a', 'b']\": [['q0', 'MVR']],\n",
       "  \"['a', 'b', 'b']\": [['q0', 'MVR']],\n",
       "  \"['a', 'b', 'c']\": [['q0', 'MVR']],\n",
       "  \"['b', 'b', 'b']\": [['q0', 'MVR']],\n",
       "  \"['b', 'b', 'c']\": [['q0', 'MVR']],\n",
       "  \"['b', 'b', 'd']\": [['q0', 'MVR']],\n",
       "  \"['#', 'c', '$']\": ['Accept'],\n",
       "  \"['#', 'd', '$']\": ['Accept'],\n",
       "  \"['#', 'a', 'b']\": [['q0', 'MVR']],\n",
       "  \"['#', 'a', 'a']\": [['q0', 'MVR']],\n",
       "  \"['b', 'c', '$']\": [['qc', 'MVL']],\n",
       "  \"['b', 'd', '$']\": [['qd', 'MVL']]},\n",
       " 'qr': {\"['*']\": ['Restart']},\n",
       " 'qc': {\"['a', 'b', 'c']\": [['qr', \"['c']\"]],\n",
       "  \"['b', 'b', 'c']\": [['qc', 'MVL']],\n",
       "  \"['b', 'b', 'b']\": [['qc', 'MVL']],\n",
       "  \"['a', 'b', 'b']\": [['qr', \"['b']\"]]},\n",
       " 'qd': {\"['b', 'b', 'd']\": [['qd', 'MVL']],\n",
       "  \"['b', 'b', 'b']\": [['qd', 'MVL']],\n",
       "  \"['a', 'b', 'b']\": [['qr', '[]']]}}"
      ]
     },
     "execution_count": 5,
     "metadata": {},
     "output_type": "execute_result"
    }
   ],
   "source": [
    "a.instructions"
   ]
  },
  {
   "cell_type": "code",
   "execution_count": 6,
   "metadata": {},
   "outputs": [],
   "source": [
    "a = Automaton(file=\"../0n1n.txt\")"
   ]
  },
  {
   "cell_type": "code",
   "execution_count": 11,
   "metadata": {},
   "outputs": [
    {
     "name": "stdout",
     "output_type": "stream",
     "text": [
      "['#', '0', '0', '0', '1', '1', '1', '$']\n",
      "remaining tuples = []\n",
      "number of copies of text = 3\n",
      "(#, 0, 0, 0), 1, 1, 1, $ | state: q0\n",
      "#, (0, 0, 0, 1), 1, 1, $ | state: q0\n",
      "#, 0, (0, 0, 1, 1), 1, $ | state: q0\n",
      "#, 0, (0, 1, 1, $) | state: qr | ['0', '0', '1', '1'] --> ['0', '1']\n",
      "(#, 0, 0, 1), 1, $ | state: q0\n",
      "#, (0, 0, 1, 1), $ | state: q0\n",
      "#, (0, 1, $) | state: qr | ['0', '0', '1', '1'] --> ['0', '1']\n",
      "(#, 0, 1, $) | state: q0\n"
     ]
    },
    {
     "data": {
      "text/plain": [
       "True"
      ]
     },
     "execution_count": 11,
     "metadata": {},
     "output_type": "execute_result"
    }
   ],
   "source": [
    "a.evaluate(\"#000111$\")"
   ]
  },
  {
   "cell_type": "code",
   "execution_count": 10,
   "metadata": {},
   "outputs": [
    {
     "data": {
      "text/plain": [
       "\"['#', '0', '0', '0', '1', '1', '1', '$']\\nremaining tuples = []\\nnumber of copies of text = 3\\n(#, 0, 0, 0), 1, 1, 1, $ | state: q0\\n#, (0, 0, 0, 1), 1, 1, $ | state: q0\\n#, 0, (0, 0, 1, 1), 1, $ | state: q0\\n#, 0, (0, 1, 1, $) | state: qr | ['0', '0', '1', '1'] --> ['0', '1']\\n(#, 0, 0, 1), 1, $ | state: q0\\n#, (0, 0, 1, 1), $ | state: q0\\n#, (0, 1, $) | state: qr | ['0', '0', '1', '1'] --> ['0', '1']\\n(#, 0, 1, $) | state: q0\\n['#', '0', '0', '0', '1', '1', '1', '$']\\nremaining tuples = []\\nnumber of copies of text = 3\\n(#, 0, 0, 1), 1, $ | state: q0\\n(#, 0, 1, $) | state: q0\\n\""
      ]
     },
     "execution_count": 10,
     "metadata": {},
     "output_type": "execute_result"
    }
   ],
   "source": [
    "a.logs"
   ]
  }
 ],
 "metadata": {
  "interpreter": {
   "hash": "d47defed22da33e0314abd5582877298266e5691cc62839a5a7dae1d6cc5ac5c"
  },
  "kernelspec": {
   "display_name": "Python 3.8.5 64-bit ('base': conda)",
   "name": "python3"
  },
  "language_info": {
   "codemirror_mode": {
    "name": "ipython",
    "version": 3
   },
   "file_extension": ".py",
   "mimetype": "text/x-python",
   "name": "python",
   "nbconvert_exporter": "python",
   "pygments_lexer": "ipython3",
   "version": "3.8.5"
  },
  "metadata": {
   "interpreter": {
    "hash": "d47defed22da33e0314abd5582877298266e5691cc62839a5a7dae1d6cc5ac5c"
   }
  },
  "orig_nbformat": 2
 },
 "nbformat": 4,
 "nbformat_minor": 2
}