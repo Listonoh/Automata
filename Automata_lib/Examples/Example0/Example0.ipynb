{
 "metadata": {
  "language_info": {
   "codemirror_mode": {
    "name": "ipython",
    "version": 3
   },
   "file_extension": ".py",
   "mimetype": "text/x-python",
   "name": "python",
   "nbconvert_exporter": "python",
   "pygments_lexer": "ipython3",
   "version": "3.8.5"
  },
  "orig_nbformat": 2,
  "kernelspec": {
   "name": "python385jvsc74a57bd0d47defed22da33e0314abd5582877298266e5691cc62839a5a7dae1d6cc5ac5c",
   "display_name": "Python 3.8.5 64-bit ('base': conda)"
  },
  "metadata": {
   "interpreter": {
    "hash": "d47defed22da33e0314abd5582877298266e5691cc62839a5a7dae1d6cc5ac5c"
   }
  }
 },
 "nbformat": 4,
 "nbformat_minor": 2,
 "cells": [
  {
   "cell_type": "code",
   "execution_count": 1,
   "metadata": {},
   "outputs": [],
   "source": [
    "from Automata_lib import Automaton, OutputMode"
   ]
  },
  {
   "cell_type": "code",
   "execution_count": 2,
   "metadata": {},
   "outputs": [],
   "source": [
    "a = Automaton()"
   ]
  },
  {
   "cell_type": "code",
   "execution_count": 3,
   "metadata": {},
   "outputs": [],
   "source": [
    "a.starting_position = 0\n",
    "a.size_of_window = 3\n",
    "a.initial_state = \"q0\"\n",
    "a.add_to_alphabet(\"a\", \"b\", \"c\", \"d\")\n",
    "\n",
    "for i in [\"aaa\", \"aab\", \"abb\", \"abc\", \"bbb\", \"bbc\", \"bbd\"]:\n",
    "    a.add_instr(\"q0\", i, \"q0\", \"MVR\")\n",
    "\n",
    "a.add_one_instr(\"q0\", \"#c$\", \"Accept\")\n",
    "a.add_one_instr(\"q0\", \"#d$\", \"Accept\")\n",
    "\n",
    "a.add_instr(\"q0\", \"#ab\", \"q0\", \"MVR\")\n",
    "a.add_instr(\"q0\", \"#aa\", \"q0\", \"MVR\")\n",
    "a.add_instr(\"q0\", \"bc$\", \"qc\", \"MVL\")\n",
    "a.add_instr(\"q0\", \"bd$\", \"qd\", \"MVL\")\n",
    "\n",
    "a.add_one_instr(\"qr\", \"*\", \"Restart\")\n",
    "\n",
    "a.add_instr(\"qc\", \"abc\", \"qr\", \"c\")\n",
    "a.add_instr(\"qc\", \"bbc\", \"qc\", \"MVL\")\n",
    "a.add_instr(\"qc\", \"bbb\", \"qc\", \"MVL\")\n",
    "a.add_instr(\"qc\", \"abb\", \"qr\", \"b\")\n",
    "a.add_instr(\"qd\", \"bbd\", \"qd\", \"MVL\")\n",
    "a.add_instr(\"qd\", \"bbb\", \"qd\", \"MVL\")\n",
    "a.add_instr(\"qd\", \"abb\", \"qr\", \"[]\")"
   ]
  },
  {
   "cell_type": "code",
   "execution_count": 4,
   "metadata": {},
   "outputs": [
    {
     "output_type": "stream",
     "name": "stdout",
     "text": [
      "['#', 'a', 'a', 'a', 'b', 'b', 'b', 'c', '$']\nremaining tuples = []\nnumber of copies of text = 4\n(#, a, a), b, b, c, $\n(#, a, b), c, $\n(#, c, $)\n"
     ]
    },
    {
     "output_type": "execute_result",
     "data": {
      "text/plain": [
       "True"
      ]
     },
     "metadata": {},
     "execution_count": 4
    }
   ],
   "source": [
    "a.evaluate(\"#aaabbbc$\")"
   ]
  },
  {
   "cell_type": "code",
   "execution_count": null,
   "metadata": {},
   "outputs": [],
   "source": [
    "a.instructions"
   ]
  },
  {
   "cell_type": "code",
   "execution_count": 7,
   "metadata": {},
   "outputs": [],
   "source": [
    "a = Automaton(output=print,file=\"../0n1n.txt\", out_mode=OutputMode.CYCLES)"
   ]
  },
  {
   "cell_type": "code",
   "execution_count": 8,
   "metadata": {},
   "outputs": [
    {
     "output_type": "stream",
     "name": "stdout",
     "text": [
      "['#', '0', '0', '0', '1', '1', '1', '$']\nremaining tuples = []\nnumber of copies of text = 3\n(#, 0, 0, 1), 1, $\n(#, 0, 1, $)\n"
     ]
    },
    {
     "output_type": "execute_result",
     "data": {
      "text/plain": [
       "True"
      ]
     },
     "metadata": {},
     "execution_count": 8
    }
   ],
   "source": [
    "a.evaluate(\"#000111$\", detail=OutputMode.INSTRUCTIONS)"
   ]
  },
  {
   "cell_type": "code",
   "execution_count": 6,
   "metadata": {},
   "outputs": [
    {
     "output_type": "execute_result",
     "data": {
      "text/plain": [
       "'/root/src/bakalarka/Automata/Automata_lib/Examples/Example0'"
      ]
     },
     "metadata": {},
     "execution_count": 6
    }
   ],
   "source": [
    "import os\n",
    "os.getcwd()"
   ]
  }
 ]
}