{
 "cells": [
  {
   "cell_type": "code",
   "execution_count": 1,
   "metadata": {},
   "outputs": [],
   "source": [
    "from restarting_automata import Automaton, is_monotonic, from_digraph_to_dot, to_digraph, get_next_window"
   ]
  },
  {
   "cell_type": "code",
   "execution_count": 2,
   "metadata": {},
   "outputs": [],
   "source": [
    "a = Automaton(\"../Examples/non_mon.txt\")"
   ]
  },
  {
   "cell_type": "code",
   "execution_count": 2,
   "metadata": {},
   "outputs": [],
   "source": [
    "a = Automaton(\"../Examples/mono.txt\")"
   ]
  },
  {
   "cell_type": "code",
   "execution_count": 2,
   "metadata": {},
   "outputs": [],
   "source": [
    "a = Automaton(\"../Examples/star_problem.txt\")"
   ]
  },
  {
   "cell_type": "code",
   "execution_count": 2,
   "metadata": {},
   "outputs": [],
   "source": [
    "a = Automaton(\"../Examples/balanced_brackets.txt\")"
   ]
  },
  {
   "cell_type": "code",
   "execution_count": 4,
   "metadata": {},
   "outputs": [
    {
     "data": {
      "text/plain": [
       "[('a', \"['b', 'b', 'a']\"), ('b', \"['b', 'b', 'b']\"), ('$', \"['b', 'b', '$']\")]"
      ]
     },
     "execution_count": 4,
     "metadata": {},
     "output_type": "execute_result"
    }
   ],
   "source": [
    "get_next_window(a, \"['b', 'b', 'b']\")"
   ]
  },
  {
   "cell_type": "code",
   "execution_count": 3,
   "metadata": {},
   "outputs": [
    {
     "data": {
      "text/plain": [
       "defaultdict(list,\n",
       "            {'Initial': [('', \"q0['#', '(']\"), ('', \"q0['#', '$']\")],\n",
       "             \"q0['#', '$']\": [('', 'Accept')],\n",
       "             \"q0['(', ')']\": [('', \"qr['*']\"),\n",
       "              ('(', \"q0[')', '(']\"),\n",
       "              (')', \"q0[')', ')']\")],\n",
       "             \"q0['(', '(']\": [('(', \"q0['(', '(']\"), (')', \"q0['(', ')']\")],\n",
       "             \"q0[')', '(']\": [('(', \"q0['(', '(']\"), (')', \"q0['(', ')']\")],\n",
       "             \"q0[')', ')']\": [('(', \"q0[')', '(']\"), (')', \"q0[')', ')']\")],\n",
       "             \"q0['#', '(']\": [('(', \"q0['(', '(']\"), (')', \"q0['(', ')']\")],\n",
       "             \"qr['*']\": [('', 'Restart'), ('', 'Restart')]})"
      ]
     },
     "execution_count": 3,
     "metadata": {},
     "output_type": "execute_result"
    }
   ],
   "source": [
    "dig = to_digraph(a)\n",
    "dig\n",
    "# from_digraph_to_dot(dig)"
   ]
  },
  {
   "cell_type": "code",
   "execution_count": 5,
   "metadata": {},
   "outputs": [
    {
     "data": {
      "text/plain": [
       "{'initial_state': 'q0',\n",
       " 'alphabet': ['a', 'b', 'c', 'd', 'e'],\n",
       " 'working_alphabet': ['E', 'D'],\n",
       " 'size_of_window': 4,\n",
       " 'name': 'monotonous',\n",
       " 'type': 'None',\n",
       " 'doc_string': '[Mon] accept language { a^n (cb)^n d | n >= 0 } union { a^2n (cb)^n e | n >= 0}',\n",
       " 'instructions': {'q0': {\"['#', 'd', '$']\": ['Accept'],\n",
       "   \"['#', 'e', '$']\": ['Accept'],\n",
       "   \"['#', 'a', 'a', 'a']\": [['q0', 'MVR']],\n",
       "   \"['#', 'a', 'a', 'c']\": [['q0', 'MVR']],\n",
       "   \"['#', 'a', 'c', 'b']\": [['qe', \"['#']\"]],\n",
       "   \"['a', 'a', 'a', 'a']\": [['q0', 'MVR']],\n",
       "   \"['a', 'a', 'a', 'c']\": [['q0', 'MVR']],\n",
       "   \"['a', 'a', 'c', 'b']\": [['qe', '[]'], ['qd', \"['a']\"]]},\n",
       "  'qe': {\"['c', 'b', 'c', 'b']\": [['qe', 'MVR']],\n",
       "   \"['b', 'c', 'b', 'c']\": [['qe', 'MVR']],\n",
       "   \"['b', 'c', 'b', 'e']\": ['Restart'],\n",
       "   \"['e', '$']\": ['Restart']},\n",
       "  'qd': {\"['c', 'b', 'c', 'b']\": [['qd', 'MVR']],\n",
       "   \"['b', 'c', 'b', 'c']\": [['qd', 'MVR']],\n",
       "   \"['b', 'c', 'b', 'd']\": ['Restart'],\n",
       "   \"['d', '$']\": ['Restart']}}}"
      ]
     },
     "execution_count": 5,
     "metadata": {},
     "output_type": "execute_result"
    }
   ],
   "source": [
    "a.definition"
   ]
  }
 ],
 "metadata": {
  "kernelspec": {
   "display_name": "Python 3.9.13 ('.venv': venv)",
   "language": "python",
   "name": "python3"
  },
  "language_info": {
   "codemirror_mode": {
    "name": "ipython",
    "version": 3
   },
   "file_extension": ".py",
   "mimetype": "text/x-python",
   "name": "python",
   "nbconvert_exporter": "python",
   "pygments_lexer": "ipython3",
   "version": "3.9.13"
  },
  "orig_nbformat": 4,
  "vscode": {
   "interpreter": {
    "hash": "83ff6c5028a4122b40123da89b9e1b377bdc20df1a26c05dc071934b487ba20a"
   }
  }
 },
 "nbformat": 4,
 "nbformat_minor": 2
}
