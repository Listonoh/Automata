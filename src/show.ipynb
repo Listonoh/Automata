{
 "cells": [
  {
   "cell_type": "code",
   "execution_count": 1,
   "metadata": {},
   "outputs": [],
   "source": [
    "from restarting_automata import Automaton, is_monotonic, from_digraph_to_dot, to_digraph, get_next_window, OutputMode"
   ]
  },
  {
   "cell_type": "code",
   "execution_count": 11,
   "metadata": {},
   "outputs": [],
   "source": [
    "a = Automaton(\"../Examples/balanced_brackets.txt\")"
   ]
  },
  {
   "cell_type": "code",
   "execution_count": 9,
   "metadata": {},
   "outputs": [
    {
     "name": "stdout",
     "output_type": "stream",
     "text": [
      "evaluated word: #(()())$\n",
      "history of computation\n",
      "_#(_())$ | state: q0\n",
      "_#(_)$ | state: q0\n",
      "_#$_ | state: q0\n",
      "accepted\n"
     ]
    },
    {
     "data": {
      "text/plain": [
       "True"
      ]
     },
     "execution_count": 9,
     "metadata": {},
     "output_type": "execute_result"
    }
   ],
   "source": [
    "a.evaluate(\"(()())\", OutputMode.CYCLES)"
   ]
  },
  {
   "cell_type": "code",
   "execution_count": 12,
   "metadata": {},
   "outputs": [
    {
     "data": {
      "text/plain": [
       "{'initial_state': 'q0',\n",
       " 'alphabet': ['(', ')'],\n",
       " 'working_alphabet': [],\n",
       " 'size_of_window': 2,\n",
       " 'name': 'brackets',\n",
       " 'type': 'RLWW',\n",
       " 'doc_string': 'This automaton ',\n",
       " 'instructions': {'q0': {\"['#', '$']\": ['Accept'],\n",
       "   \"['(', ')']\": [['qr', '[]'], ['q0', \"['M', '[VR]', 'R']\"]],\n",
       "   \"['(', '(']\": [['q0', 'MVR']],\n",
       "   \"[')', '(']\": [['q0', 'MVR']],\n",
       "   \"[')', ')']\": [['q0', 'MVR']],\n",
       "   \"['#', '(']\": [['q0', 'MVR']]},\n",
       "  'qr': {\"['*']\": ['Restart']}}}"
      ]
     },
     "execution_count": 12,
     "metadata": {},
     "output_type": "execute_result"
    }
   ],
   "source": [
    "a.definition"
   ]
  },
  {
   "cell_type": "code",
   "execution_count": 2,
   "metadata": {},
   "outputs": [],
   "source": [
    "a = Automaton(\"../Examples/non_mon.txt\")"
   ]
  },
  {
   "cell_type": "code",
   "execution_count": 2,
   "metadata": {},
   "outputs": [],
   "source": [
    "a = Automaton(\"../Examples/mono.txt\")"
   ]
  },
  {
   "cell_type": "code",
   "execution_count": 2,
   "metadata": {},
   "outputs": [],
   "source": [
    "a = Automaton(\"../Examples/star_problem.txt\")"
   ]
  },
  {
   "cell_type": "code",
   "execution_count": null,
   "metadata": {},
   "outputs": [],
   "source": [
    "get_next_window(a, \"['b', 'b', 'b']\")"
   ]
  },
  {
   "cell_type": "code",
   "execution_count": null,
   "metadata": {},
   "outputs": [],
   "source": [
    "dig = to_digraph(a)\n",
    "dig\n",
    "# from_digraph_to_dot(dig)"
   ]
  }
 ],
 "metadata": {
  "kernelspec": {
   "display_name": "Python 3.9.13 ('.venv': venv)",
   "language": "python",
   "name": "python3"
  },
  "language_info": {
   "codemirror_mode": {
    "name": "ipython",
    "version": 3
   },
   "file_extension": ".py",
   "mimetype": "text/x-python",
   "name": "python",
   "nbconvert_exporter": "python",
   "pygments_lexer": "ipython3",
   "version": "3.9.13"
  },
  "orig_nbformat": 4,
  "vscode": {
   "interpreter": {
    "hash": "83ff6c5028a4122b40123da89b9e1b377bdc20df1a26c05dc071934b487ba20a"
   }
  }
 },
 "nbformat": 4,
 "nbformat_minor": 2
}
